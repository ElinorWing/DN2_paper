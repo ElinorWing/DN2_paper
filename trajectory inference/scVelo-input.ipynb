{
 "cells": [
  {
   "cell_type": "markdown",
   "id": "7008507f",
   "metadata": {},
   "source": [
    "# Prepare scVelo Input File"
   ]
  },
  {
   "cell_type": "markdown",
   "id": "993d41c9",
   "metadata": {},
   "source": [
    "Combine loom file with splice data and seurat output converted into anndata."
   ]
  },
  {
   "cell_type": "code",
   "execution_count": null,
   "id": "ee952e6b",
   "metadata": {},
   "outputs": [],
   "source": []
  },
  {
   "cell_type": "code",
   "execution_count": 1,
   "id": "b540b0f8",
   "metadata": {},
   "outputs": [],
   "source": [
    "import numpy as np\n",
    "import pandas as pd\n",
    "import matplotlib.pyplot as pl\n",
    "import scanpy as sc\n",
    "import igraph\n",
    "import scvelo as scv\n",
    "import loompy as lmp\n",
    "import anndata\n",
    "\n",
    "import warnings\n",
    "warnings.filterwarnings('ignore')"
   ]
  },
  {
   "cell_type": "code",
   "execution_count": 2,
   "id": "c921f441",
   "metadata": {},
   "outputs": [],
   "source": [
    "# Set parameters for plots, including size, color, etc.\n",
    "scv.set_figure_params(style=\"scvelo\")\n",
    "pl.rcParams[\"figure.figsize\"] = (10,10)\n",
    "Colorss=[\"#E41A1C\",\"#377EB8\",\"#4DAF4A\",\"#984EA3\",\"#FF7F00\",\"#FFFF33\",\"#A65628\",\"#F781BF\"]"
   ]
  },
  {
   "cell_type": "markdown",
   "id": "70948f56",
   "metadata": {},
   "source": [
    "### Import the filtered gene expression matrix output from Cell Ranger into scVelo."
   ]
  },
  {
   "cell_type": "code",
   "execution_count": 3,
   "id": "a9f732de",
   "metadata": {},
   "outputs": [
    {
     "data": {
      "text/plain": [
       "AnnData object with n_obs × n_vars = 10254 × 36601\n",
       "    var: 'gene_ids', 'feature_types'"
      ]
     },
     "execution_count": 3,
     "metadata": {},
     "output_type": "execute_result"
    }
   ],
   "source": [
    "# Define Path to the matrix output from cellranger\n",
    "Path10x='./sample1_filtered_feature_bc_matrix/'\n",
    "\n",
    "# Read matrix\n",
    "matrix = sc.read_10x_mtx(Path10x,var_names='gene_symbols',cache=True)\n",
    "\n",
    "# Print information on this new object\n",
    "matrix"
   ]
  },
  {
   "cell_type": "markdown",
   "id": "1b537ea3",
   "metadata": {},
   "source": [
    "### Import spliced/unspliced counts."
   ]
  },
  {
   "cell_type": "code",
   "execution_count": 4,
   "id": "c9c7a5e8",
   "metadata": {},
   "outputs": [
    {
     "data": {
      "text/plain": [
       "AnnData object with n_obs × n_vars = 10254 × 31915\n",
       "    obs: 'initial_size_spliced', 'initial_size_unspliced', 'initial_size'\n",
       "    var: 'gene_ids', 'feature_types', 'Accession', 'Chromosome', 'End', 'Start', 'Strand'\n",
       "    layers: 'ambiguous', 'matrix', 'spliced', 'unspliced'"
      ]
     },
     "execution_count": 4,
     "metadata": {},
     "output_type": "execute_result"
    }
   ],
   "source": [
    "# Read velocyto output\n",
    "spliced = scv.read('sample_alignments_ZIY3A.loom', cache=True)\n",
    "\n",
    "# Merge velocyto with cellranger matrix\n",
    "spliced = scv.utils.merge(matrix, spliced)\n",
    "\n",
    "spliced"
   ]
  },
  {
   "cell_type": "code",
   "execution_count": 5,
   "id": "e77fe51c",
   "metadata": {},
   "outputs": [],
   "source": [
    "spliced.write('1-spliced.h5ad')"
   ]
  },
  {
   "cell_type": "markdown",
   "id": "5afe09c1",
   "metadata": {},
   "source": [
    "### Import clusters and UMAP projection."
   ]
  },
  {
   "cell_type": "code",
   "execution_count": 6,
   "id": "77c92524",
   "metadata": {},
   "outputs": [],
   "source": [
    "#read in Seurat output\n",
    "adata = scv.read('sample1.h5ad', cache=True)\n",
    "\n",
    "#merge Seurat output with the spliced data\n",
    "final = scv.utils.merge(spliced, adata)"
   ]
  },
  {
   "cell_type": "code",
   "execution_count": 7,
   "id": "d64d1ad3",
   "metadata": {},
   "outputs": [
    {
     "data": {
      "text/plain": [
       "AnnData object with n_obs × n_vars = 8393 × 18111\n",
       "    obs: 'initial_size_spliced', 'initial_size_unspliced', 'initial_size', 'orig.ident', 'nCount_RNA', 'nFeature_RNA', 'percent.mt', 'percent.rb', 'S.Score', 'G2M.Score', 'Phase', 'old.ident', 'RNA_snn_res.1.1', 'seurat_clusters', 'RNA_snn_res.0.9', 'RNA_snn_res.0.8', 'RNA_snn_res.0.7', 'pANN_0.25_0.09_651', 'DF.classifications_0.25_0.09_651'\n",
       "    var: 'gene_ids', 'feature_types', 'Accession', 'Chromosome', 'End', 'Start', 'Strand', 'vst.mean', 'vst.variance', 'vst.variance.expected', 'vst.variance.standardized', 'vst.variable'\n",
       "    obsm: 'X_pca', 'X_umap'\n",
       "    varm: 'PCs'\n",
       "    layers: 'matrix', 'ambiguous', 'spliced', 'unspliced'"
      ]
     },
     "execution_count": 7,
     "metadata": {},
     "output_type": "execute_result"
    }
   ],
   "source": [
    "#check the fial anndata object contains all info needed - spliced and unspliced layers, gen_ids, X_umap and PCs\n",
    "final"
   ]
  },
  {
   "cell_type": "code",
   "execution_count": 8,
   "id": "f1481c09",
   "metadata": {},
   "outputs": [
    {
     "data": {
      "image/png": "[encoded data removed]",
      "text/plain": [
       "<Figure size 1000x200 with 1 Axes>"
      ]
     },
     "metadata": {},
     "output_type": "display_data"
    }
   ],
   "source": [
    "scv.pl.proportions(final)"
   ]
  },
  {
   "cell_type": "markdown",
   "id": "4ccdb0ea",
   "metadata": {},
   "source": [
    "### Save final Anndata object for input into scVelo"
   ]
  },
  {
   "cell_type": "code",
   "execution_count": 9,
   "id": "c44879e4",
   "metadata": {},
   "outputs": [],
   "source": [
    "final.write('sample1-scVelo-input.h5ad')"
   ]
  },
  {
   "cell_type": "code",
   "execution_count": null,
   "id": "fca9e9b3",
   "metadata": {},
   "outputs": [],
   "source": []
  },
  {
   "cell_type": "code",
   "execution_count": null,
   "id": "7271b9a4",
   "metadata": {},
   "outputs": [],
   "source": []
  }
 ],
 "metadata": {
  "kernelspec": {
   "display_name": "Python 3",
   "language": "python",
   "name": "python3"
  },
  "language_info": {
   "codemirror_mode": {
    "name": "ipython",
    "version": 3
   },
   "file_extension": ".py",
   "mimetype": "text/x-python",
   "name": "python",
   "nbconvert_exporter": "python",
   "pygments_lexer": "ipython3",
   "version": "3.8.8"
  }
 },
 "nbformat": 4,
 "nbformat_minor": 5
}
