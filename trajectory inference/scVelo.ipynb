{
 "cells": [
  {
   "cell_type": "markdown",
   "id": "364c37f0",
   "metadata": {},
   "source": [
    "# scVelo"
   ]
  },
  {
   "cell_type": "code",
   "execution_count": null,
   "id": "863802cf",
   "metadata": {},
   "outputs": [],
   "source": [
    "#load packages\n",
    "import scvelo as scv\n",
    "import pandas as pd\n",
    "import scanpy as sc\n",
    "import seaborn as sns\n",
    "import cellrank as cr\n",
    "import scvelo as scv\n",
    "import numpy as np\n",
    "import matplotlib.pyplot as plt\n",
    "\n",
    "scv.settings.verbosity = 3\n",
    "scv.settings.set_figure_params(\"scvelo\")\n",
    "cr.settings.verbosity = 2"
   ]
  },
  {
   "cell_type": "code",
   "execution_count": null,
   "id": "a0024abc",
   "metadata": {},
   "outputs": [],
   "source": [
    "#load the loom files for the 3 samples\n",
    "#velocyto output combined with the cellranger output\n",
    "EW1 = scv.read('EW1-spliced.h5ad', cache=True)\n",
    "EW2 = scv.read('EW2-spliced.h5ad', cache=True)\n",
    "EW3 = scv.read('EW3-spliced.h5ad', cache=True)"
   ]
  },
  {
   "cell_type": "markdown",
   "id": "b3bc619b",
   "metadata": {},
   "source": [
    "The barcodes saved in these files are different to the ones in seurat.\n",
    "\n",
    "Need to add '-1' to the end of each plus the '_1' for sample 1, '_2' for sample 2, and '_3' for sample 3 so that the splice information will match up to the correct cell in the seurat object and the clustering and cluster identities can be consistent."
   ]
  },
  {
   "cell_type": "code",
   "execution_count": null,
   "id": "0982f39f",
   "metadata": {},
   "outputs": [],
   "source": [
    "#check what the current barcodes look like\n",
    "barcodes = EW1.obs.index.tolist()\n",
    "barcodes"
   ]
  },
  {
   "cell_type": "code",
   "execution_count": null,
   "id": "53d37ecb",
   "metadata": {},
   "outputs": [],
   "source": [
    "#for each barcode in the list of barcodes from sample 1 add '-1_1'\n",
    "barcodes = [bc[0:len(bc)] + '-1_1' for bc in barcodes]\n",
    "barcodes"
   ]
  },
  {
   "cell_type": "code",
   "execution_count": null,
   "id": "0a616303",
   "metadata": {},
   "outputs": [],
   "source": [
    "#make this new list of barcodes the index for sample 1\n",
    "EW1.obs.index = barcodes"
   ]
  },
  {
   "cell_type": "code",
   "execution_count": null,
   "id": "9dc4a7ba",
   "metadata": {},
   "outputs": [],
   "source": [
    "#repeat for sample 2\n",
    "barcodes = EW2.obs.index.tolist()\n",
    "barcodes = [bc[0:len(bc)] + '-1_2' for bc in barcodes]\n",
    "EW2.obs.index = barcodes\n",
    "\n",
    "#repeat for sample3\n",
    "barcodes = EW3.obs.index.tolist()\n",
    "barcodes = [bc[0:len(bc)] + '-1_3' for bc in barcodes]\n",
    "EW3.obs.index = barcodes"
   ]
  },
  {
   "cell_type": "code",
   "execution_count": null,
   "id": "0aaed952",
   "metadata": {},
   "outputs": [],
   "source": [
    "#check that the index list has been correctly updated\n",
    "EW3.obs.index"
   ]
  },
  {
   "cell_type": "code",
   "execution_count": null,
   "id": "13a671d8",
   "metadata": {},
   "outputs": [],
   "source": [
    "# make variable names unique\n",
    "EW1.var_names_make_unique()\n",
    "EW2.var_names_make_unique()\n",
    "EW3.var_names_make_unique()"
   ]
  },
  {
   "cell_type": "code",
   "execution_count": null,
   "id": "4b66319c",
   "metadata": {},
   "outputs": [],
   "source": [
    "# concatenate the three loom\n",
    "ldata = EW1.concatenate([EW2, EW3])"
   ]
  },
  {
   "cell_type": "code",
   "execution_count": null,
   "id": "8d285f74",
   "metadata": {},
   "outputs": [],
   "source": [
    "ldata"
   ]
  },
  {
   "cell_type": "code",
   "execution_count": null,
   "id": "b00a070e",
   "metadata": {},
   "outputs": [],
   "source": [
    "ldata.obs.index"
   ]
  },
  {
   "cell_type": "code",
   "execution_count": null,
   "id": "8be9263e",
   "metadata": {},
   "outputs": [],
   "source": [
    "#merging the three loom files has added a new code to the end to match 'batch' numbers\n",
    "#remove so that the barcodes still match the seurat info\n",
    "barcodes = ldata.obs.index.tolist()\n",
    "barcodes = [bc[0:len(bc)-2] for bc in barcodes]\n",
    "ldata.obs.index = barcodes"
   ]
  },
  {
   "cell_type": "code",
   "execution_count": null,
   "id": "9a066adc",
   "metadata": {},
   "outputs": [],
   "source": [
    "ldata.obs.index"
   ]
  },
  {
   "cell_type": "code",
   "execution_count": null,
   "id": "954cf26e",
   "metadata": {},
   "outputs": [],
   "source": [
    "ldata.obs.batch"
   ]
  },
  {
   "cell_type": "code",
   "execution_count": null,
   "id": "4f1c5b71",
   "metadata": {},
   "outputs": [],
   "source": []
  },
  {
   "cell_type": "code",
   "execution_count": null,
   "id": "c7da8cb9",
   "metadata": {},
   "outputs": [],
   "source": [
    "#load the seurat data that has been converted into .h5ad\n",
    "seurat_combined = scv.read('harmony_merged.h5ad', cache=True)"
   ]
  },
  {
   "cell_type": "code",
   "execution_count": null,
   "id": "6c75742a",
   "metadata": {},
   "outputs": [],
   "source": [
    "#check all of the metadata info has been copied\n",
    "seurat_combined"
   ]
  },
  {
   "cell_type": "code",
   "execution_count": null,
   "id": "643d90fa",
   "metadata": {},
   "outputs": [],
   "source": [
    "# merge matrices into the original adata object\n",
    "adata = scv.utils.merge(seurat_combined, ldata)"
   ]
  },
  {
   "cell_type": "code",
   "execution_count": null,
   "id": "f2d9f1b1",
   "metadata": {},
   "outputs": [],
   "source": [
    "adata"
   ]
  },
  {
   "cell_type": "code",
   "execution_count": null,
   "id": "07053514",
   "metadata": {},
   "outputs": [],
   "source": []
  },
  {
   "cell_type": "code",
   "execution_count": null,
   "id": "dc2928bd",
   "metadata": {},
   "outputs": [],
   "source": [
    "adata.obs.clusters = adata.obs.clusters.astype('category')\n",
    "# plot umap to check\n",
    "sc.pl.umap(adata, color='clusters', frameon=False, legend_loc='on data', title='')"
   ]
  },
  {
   "cell_type": "code",
   "execution_count": null,
   "id": "e04edc54",
   "metadata": {},
   "outputs": [],
   "source": [
    "scv.pl.proportions(adata, groupby='clusters')"
   ]
  },
  {
   "cell_type": "markdown",
   "id": "2bac3a5e",
   "metadata": {},
   "source": [
    "# Pre-process the data"
   ]
  },
  {
   "cell_type": "markdown",
   "id": "15a22687",
   "metadata": {},
   "source": [
    "Filter out genes which don’t have enough spliced/unspliced counts, normalize and log transform the data and restrict to the top highly variable genes. Further, compute principal components and moments for velocity estimation."
   ]
  },
  {
   "cell_type": "code",
   "execution_count": null,
   "id": "7ec2664c",
   "metadata": {},
   "outputs": [],
   "source": [
    "#filter and normalise with default parameters\n",
    "scv.pp.filter_and_normalize(adata, min_shared_counts=20, n_top_genes=2000)\n",
    "#run PCA\n",
    "sc.tl.pca(adata)\n",
    "#calculate nearest neighbour/cluster\n",
    "sc.pp.neighbors(adata, n_pcs=30, n_neighbors=30)\n",
    "#calculate moments\n",
    "scv.pp.moments(adata, n_pcs=None, n_neighbors=None)"
   ]
  },
  {
   "cell_type": "markdown",
   "id": "a1ed5355",
   "metadata": {},
   "source": [
    "# Run scVelo"
   ]
  },
  {
   "cell_type": "markdown",
   "id": "8148f0b0",
   "metadata": {},
   "source": [
    "Use the dynamical model from scVelo to estimate the velocities."
   ]
  },
  {
   "cell_type": "code",
   "execution_count": null,
   "id": "d30589f3",
   "metadata": {},
   "outputs": [],
   "source": [
    "scv.tl.recover_dynamics(adata, n_jobs=8)"
   ]
  },
  {
   "cell_type": "code",
   "execution_count": null,
   "id": "69bb9795",
   "metadata": {},
   "outputs": [],
   "source": [
    "scv.tl.velocity(adata, mode=\"dynamical\")"
   ]
  },
  {
   "cell_type": "code",
   "execution_count": null,
   "id": "1e5f5256",
   "metadata": {},
   "outputs": [],
   "source": [
    "scv.tl.velocity_graph(adata)"
   ]
  },
  {
   "cell_type": "markdown",
   "id": "5c2d5a27",
   "metadata": {},
   "source": [
    "# Plot Graphs"
   ]
  },
  {
   "cell_type": "code",
   "execution_count": null,
   "id": "a85c5aff",
   "metadata": {},
   "outputs": [],
   "source": [
    "#Set colours to match Seurat\n",
    "ident_colours = [\"#ED68ED\", \"#ABA300\", \"#00BFC4\", \"#FF61CC\", \"#0CB702\",\"#00A9FF\", \"#00C19A\", \"#00B8E7\", \"#E68613\", \"#F8766D\", \"#7CAE00\", \"#C77CFF\"]"
   ]
  },
  {
   "cell_type": "code",
   "execution_count": null,
   "id": "5eacbf0a",
   "metadata": {},
   "outputs": [],
   "source": [
    "import matplotlib.pyplot as plt\n",
    "plt.rcParams['figure.figsize'] = [10, 8]\n",
    "#min_mass : float (default: 1) Minimum threshold for mass to be shown. It can range between 0 (all velocities) \n",
    "#and 5 (large velocities only)\n",
    "#, save = \"harmony_embedding_stream.pdf\"\n",
    "\n",
    "scv.pl.velocity_embedding_stream(\n",
    "    adata, basis=\"X_umap\", title='Velocity Embedding Stream', smooth=0.5, min_mass=0, color = 'clusters', palette = ident_colours, legend_loc = 'right margin', save = 'harmony_velocity_embedding_grid.pdf')"
   ]
  },
  {
   "cell_type": "code",
   "execution_count": null,
   "id": "e61dc5f9",
   "metadata": {},
   "outputs": [],
   "source": [
    "scv.pl.velocity_embedding_grid(adata, basis='umap', color='clusters', title='Velocity Embedding Grid', scale=0.4, palette = ident_colours, legend_loc = 'right margin', arrow_size=1.5)"
   ]
  }
 ],
 "metadata": {
  "kernelspec": {
   "display_name": "Python 3",
   "language": "python",
   "name": "python3"
  },
  "language_info": {
   "codemirror_mode": {
    "name": "ipython",
    "version": 3
   },
   "file_extension": ".py",
   "mimetype": "text/x-python",
   "name": "python",
   "nbconvert_exporter": "python",
   "pygments_lexer": "ipython3",
   "version": "3.8.8"
  }
 },
 "nbformat": 4,
 "nbformat_minor": 5
}
